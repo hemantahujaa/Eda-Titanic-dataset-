{
 "cells": [
  {
   "cell_type": "markdown",
   "metadata": {
    "_cell_guid": "bdfffc35-4784-4a80-b2b7-fa68f1f341c4",
    "_uuid": "5ec865618a600b6ec734f2f42360511ad9b97c9e"
   },
   "source": [
    "# Exploratory Data Analysis with Titanic dataset\n",
    "\n",
    "\n"
   ]
  },
  {
   "cell_type": "code",
   "execution_count": 1,
   "metadata": {
    "_cell_guid": "1ccc646e-3906-45b0-8fb6-813d9817878a",
    "_uuid": "7ef37314af94e5550608dab39e2ef8eaa02fa4e8"
   },
   "outputs": [],
   "source": [
    "import numpy as np\n",
    "import pandas as pd\n",
    "import matplotlib.pyplot as plt\n",
    "import seaborn as sb"
   ]
  },
  {
   "cell_type": "code",
   "execution_count": 2,
   "metadata": {
    "_cell_guid": "1fadbae8-73fc-40c4-80fa-d62dc1360368",
    "_uuid": "86558aeb9c37dd924a33288186bc3bf468f15ed8"
   },
   "outputs": [],
   "source": [
    "plt.style.use('fivethirtyeight')\n",
    "import warnings\n",
    "warnings.filterwarnings('ignore')\n",
    "%matplotlib inline"
   ]
  },
  {
   "cell_type": "code",
   "execution_count": 3,
   "metadata": {
    "_cell_guid": "cc67b041-a52d-461d-9039-d28e182d94fa",
    "_uuid": "dd06df984ddcd00c3a2b4e97a844794407088489",
    "scrolled": true
   },
   "outputs": [],
   "source": [
    "train_data=pd.read_csv('train.csv')\n",
    "test_data=pd.read_csv('test.csv')"
   ]
  },
  {
   "cell_type": "code",
   "execution_count": 4,
   "metadata": {
    "_cell_guid": "3fdca55c-7dcb-4eb0-b7da-b140f943a646",
    "_uuid": "d195d7ce719c98f9fd27398fda67f09c48d4e035"
   },
   "outputs": [
    {
     "data": {
      "text/plain": [
       "(891, 12)"
      ]
     },
     "execution_count": 4,
     "metadata": {},
     "output_type": "execute_result"
    }
   ],
   "source": [
    "train_data.shape"
   ]
  },
  {
   "cell_type": "code",
   "execution_count": 5,
   "metadata": {
    "_cell_guid": "9f87a7d4-11a6-47d7-a604-8fc6e4963a14",
    "_uuid": "92f7bbb6010c4f1d6b32b00750cd9ea7555cea38",
    "scrolled": true
   },
   "outputs": [
    {
     "data": {
      "text/html": [
       "<div>\n",
       "<style scoped>\n",
       "    .dataframe tbody tr th:only-of-type {\n",
       "        vertical-align: middle;\n",
       "    }\n",
       "\n",
       "    .dataframe tbody tr th {\n",
       "        vertical-align: top;\n",
       "    }\n",
       "\n",
       "    .dataframe thead th {\n",
       "        text-align: right;\n",
       "    }\n",
       "</style>\n",
       "<table border=\"1\" class=\"dataframe\">\n",
       "  <thead>\n",
       "    <tr style=\"text-align: right;\">\n",
       "      <th></th>\n",
       "      <th>PassengerId</th>\n",
       "      <th>Survived</th>\n",
       "      <th>Pclass</th>\n",
       "      <th>Name</th>\n",
       "      <th>Sex</th>\n",
       "      <th>Age</th>\n",
       "      <th>SibSp</th>\n",
       "      <th>Parch</th>\n",
       "      <th>Ticket</th>\n",
       "      <th>Fare</th>\n",
       "      <th>Cabin</th>\n",
       "      <th>Embarked</th>\n",
       "    </tr>\n",
       "  </thead>\n",
       "  <tbody>\n",
       "    <tr>\n",
       "      <th>0</th>\n",
       "      <td>1</td>\n",
       "      <td>0</td>\n",
       "      <td>3</td>\n",
       "      <td>Braund, Mr. Owen Harris</td>\n",
       "      <td>male</td>\n",
       "      <td>22.0</td>\n",
       "      <td>1</td>\n",
       "      <td>0</td>\n",
       "      <td>A/5 21171</td>\n",
       "      <td>7.2500</td>\n",
       "      <td>NaN</td>\n",
       "      <td>S</td>\n",
       "    </tr>\n",
       "    <tr>\n",
       "      <th>1</th>\n",
       "      <td>2</td>\n",
       "      <td>1</td>\n",
       "      <td>1</td>\n",
       "      <td>Cumings, Mrs. John Bradley (Florence Briggs Th...</td>\n",
       "      <td>female</td>\n",
       "      <td>38.0</td>\n",
       "      <td>1</td>\n",
       "      <td>0</td>\n",
       "      <td>PC 17599</td>\n",
       "      <td>71.2833</td>\n",
       "      <td>C85</td>\n",
       "      <td>C</td>\n",
       "    </tr>\n",
       "    <tr>\n",
       "      <th>2</th>\n",
       "      <td>3</td>\n",
       "      <td>1</td>\n",
       "      <td>3</td>\n",
       "      <td>Heikkinen, Miss. Laina</td>\n",
       "      <td>female</td>\n",
       "      <td>26.0</td>\n",
       "      <td>0</td>\n",
       "      <td>0</td>\n",
       "      <td>STON/O2. 3101282</td>\n",
       "      <td>7.9250</td>\n",
       "      <td>NaN</td>\n",
       "      <td>S</td>\n",
       "    </tr>\n",
       "    <tr>\n",
       "      <th>3</th>\n",
       "      <td>4</td>\n",
       "      <td>1</td>\n",
       "      <td>1</td>\n",
       "      <td>Futrelle, Mrs. Jacques Heath (Lily May Peel)</td>\n",
       "      <td>female</td>\n",
       "      <td>35.0</td>\n",
       "      <td>1</td>\n",
       "      <td>0</td>\n",
       "      <td>113803</td>\n",
       "      <td>53.1000</td>\n",
       "      <td>C123</td>\n",
       "      <td>S</td>\n",
       "    </tr>\n",
       "    <tr>\n",
       "      <th>4</th>\n",
       "      <td>5</td>\n",
       "      <td>0</td>\n",
       "      <td>3</td>\n",
       "      <td>Allen, Mr. William Henry</td>\n",
       "      <td>male</td>\n",
       "      <td>35.0</td>\n",
       "      <td>0</td>\n",
       "      <td>0</td>\n",
       "      <td>373450</td>\n",
       "      <td>8.0500</td>\n",
       "      <td>NaN</td>\n",
       "      <td>S</td>\n",
       "    </tr>\n",
       "    <tr>\n",
       "      <th>5</th>\n",
       "      <td>6</td>\n",
       "      <td>0</td>\n",
       "      <td>3</td>\n",
       "      <td>Moran, Mr. James</td>\n",
       "      <td>male</td>\n",
       "      <td>NaN</td>\n",
       "      <td>0</td>\n",
       "      <td>0</td>\n",
       "      <td>330877</td>\n",
       "      <td>8.4583</td>\n",
       "      <td>NaN</td>\n",
       "      <td>Q</td>\n",
       "    </tr>\n",
       "    <tr>\n",
       "      <th>6</th>\n",
       "      <td>7</td>\n",
       "      <td>0</td>\n",
       "      <td>1</td>\n",
       "      <td>McCarthy, Mr. Timothy J</td>\n",
       "      <td>male</td>\n",
       "      <td>54.0</td>\n",
       "      <td>0</td>\n",
       "      <td>0</td>\n",
       "      <td>17463</td>\n",
       "      <td>51.8625</td>\n",
       "      <td>E46</td>\n",
       "      <td>S</td>\n",
       "    </tr>\n",
       "    <tr>\n",
       "      <th>7</th>\n",
       "      <td>8</td>\n",
       "      <td>0</td>\n",
       "      <td>3</td>\n",
       "      <td>Palsson, Master. Gosta Leonard</td>\n",
       "      <td>male</td>\n",
       "      <td>2.0</td>\n",
       "      <td>3</td>\n",
       "      <td>1</td>\n",
       "      <td>349909</td>\n",
       "      <td>21.0750</td>\n",
       "      <td>NaN</td>\n",
       "      <td>S</td>\n",
       "    </tr>\n",
       "    <tr>\n",
       "      <th>8</th>\n",
       "      <td>9</td>\n",
       "      <td>1</td>\n",
       "      <td>3</td>\n",
       "      <td>Johnson, Mrs. Oscar W (Elisabeth Vilhelmina Berg)</td>\n",
       "      <td>female</td>\n",
       "      <td>27.0</td>\n",
       "      <td>0</td>\n",
       "      <td>2</td>\n",
       "      <td>347742</td>\n",
       "      <td>11.1333</td>\n",
       "      <td>NaN</td>\n",
       "      <td>S</td>\n",
       "    </tr>\n",
       "    <tr>\n",
       "      <th>9</th>\n",
       "      <td>10</td>\n",
       "      <td>1</td>\n",
       "      <td>2</td>\n",
       "      <td>Nasser, Mrs. Nicholas (Adele Achem)</td>\n",
       "      <td>female</td>\n",
       "      <td>14.0</td>\n",
       "      <td>1</td>\n",
       "      <td>0</td>\n",
       "      <td>237736</td>\n",
       "      <td>30.0708</td>\n",
       "      <td>NaN</td>\n",
       "      <td>C</td>\n",
       "    </tr>\n",
       "  </tbody>\n",
       "</table>\n",
       "</div>"
      ],
      "text/plain": [
       "   PassengerId  Survived  Pclass  \\\n",
       "0            1         0       3   \n",
       "1            2         1       1   \n",
       "2            3         1       3   \n",
       "3            4         1       1   \n",
       "4            5         0       3   \n",
       "5            6         0       3   \n",
       "6            7         0       1   \n",
       "7            8         0       3   \n",
       "8            9         1       3   \n",
       "9           10         1       2   \n",
       "\n",
       "                                                Name     Sex   Age  SibSp  \\\n",
       "0                            Braund, Mr. Owen Harris    male  22.0      1   \n",
       "1  Cumings, Mrs. John Bradley (Florence Briggs Th...  female  38.0      1   \n",
       "2                             Heikkinen, Miss. Laina  female  26.0      0   \n",
       "3       Futrelle, Mrs. Jacques Heath (Lily May Peel)  female  35.0      1   \n",
       "4                           Allen, Mr. William Henry    male  35.0      0   \n",
       "5                                   Moran, Mr. James    male   NaN      0   \n",
       "6                            McCarthy, Mr. Timothy J    male  54.0      0   \n",
       "7                     Palsson, Master. Gosta Leonard    male   2.0      3   \n",
       "8  Johnson, Mrs. Oscar W (Elisabeth Vilhelmina Berg)  female  27.0      0   \n",
       "9                Nasser, Mrs. Nicholas (Adele Achem)  female  14.0      1   \n",
       "\n",
       "   Parch            Ticket     Fare Cabin Embarked  \n",
       "0      0         A/5 21171   7.2500   NaN        S  \n",
       "1      0          PC 17599  71.2833   C85        C  \n",
       "2      0  STON/O2. 3101282   7.9250   NaN        S  \n",
       "3      0            113803  53.1000  C123        S  \n",
       "4      0            373450   8.0500   NaN        S  \n",
       "5      0            330877   8.4583   NaN        Q  \n",
       "6      0             17463  51.8625   E46        S  \n",
       "7      1            349909  21.0750   NaN        S  \n",
       "8      2            347742  11.1333   NaN        S  \n",
       "9      0            237736  30.0708   NaN        C  "
      ]
     },
     "execution_count": 5,
     "metadata": {},
     "output_type": "execute_result"
    }
   ],
   "source": [
    "train_data.head(10)"
   ]
  },
  {
   "cell_type": "code",
   "execution_count": 6,
   "metadata": {
    "_cell_guid": "73da3ccf-f82c-485c-ad2a-547c0f13ee6c",
    "_uuid": "b21f2a9d3e89f769a1bd0ce09da993c7bff10a7c"
   },
   "outputs": [
    {
     "data": {
      "text/html": [
       "<div>\n",
       "<style scoped>\n",
       "    .dataframe tbody tr th:only-of-type {\n",
       "        vertical-align: middle;\n",
       "    }\n",
       "\n",
       "    .dataframe tbody tr th {\n",
       "        vertical-align: top;\n",
       "    }\n",
       "\n",
       "    .dataframe thead th {\n",
       "        text-align: right;\n",
       "    }\n",
       "</style>\n",
       "<table border=\"1\" class=\"dataframe\">\n",
       "  <thead>\n",
       "    <tr style=\"text-align: right;\">\n",
       "      <th></th>\n",
       "      <th>PassengerId</th>\n",
       "      <th>Survived</th>\n",
       "      <th>Pclass</th>\n",
       "      <th>Name</th>\n",
       "      <th>Sex</th>\n",
       "      <th>Age</th>\n",
       "      <th>SibSp</th>\n",
       "      <th>Parch</th>\n",
       "      <th>Ticket</th>\n",
       "      <th>Fare</th>\n",
       "      <th>Cabin</th>\n",
       "      <th>Embarked</th>\n",
       "    </tr>\n",
       "  </thead>\n",
       "  <tbody>\n",
       "    <tr>\n",
       "      <th>0</th>\n",
       "      <td>769</td>\n",
       "      <td>0</td>\n",
       "      <td>3</td>\n",
       "      <td>Moran, Mr. Daniel J</td>\n",
       "      <td>male</td>\n",
       "      <td>NaN</td>\n",
       "      <td>1</td>\n",
       "      <td>0</td>\n",
       "      <td>371110</td>\n",
       "      <td>24.1500</td>\n",
       "      <td>NaN</td>\n",
       "      <td>Q</td>\n",
       "    </tr>\n",
       "    <tr>\n",
       "      <th>1</th>\n",
       "      <td>770</td>\n",
       "      <td>0</td>\n",
       "      <td>3</td>\n",
       "      <td>Gronnestad, Mr. Daniel Danielsen</td>\n",
       "      <td>male</td>\n",
       "      <td>32.0</td>\n",
       "      <td>0</td>\n",
       "      <td>0</td>\n",
       "      <td>8471</td>\n",
       "      <td>8.3625</td>\n",
       "      <td>NaN</td>\n",
       "      <td>S</td>\n",
       "    </tr>\n",
       "    <tr>\n",
       "      <th>2</th>\n",
       "      <td>771</td>\n",
       "      <td>0</td>\n",
       "      <td>3</td>\n",
       "      <td>Lievens, Mr. Rene Aime</td>\n",
       "      <td>male</td>\n",
       "      <td>24.0</td>\n",
       "      <td>0</td>\n",
       "      <td>0</td>\n",
       "      <td>345781</td>\n",
       "      <td>9.5000</td>\n",
       "      <td>NaN</td>\n",
       "      <td>S</td>\n",
       "    </tr>\n",
       "    <tr>\n",
       "      <th>3</th>\n",
       "      <td>772</td>\n",
       "      <td>0</td>\n",
       "      <td>3</td>\n",
       "      <td>Jensen, Mr. Niels Peder</td>\n",
       "      <td>male</td>\n",
       "      <td>48.0</td>\n",
       "      <td>0</td>\n",
       "      <td>0</td>\n",
       "      <td>350047</td>\n",
       "      <td>7.8542</td>\n",
       "      <td>NaN</td>\n",
       "      <td>S</td>\n",
       "    </tr>\n",
       "    <tr>\n",
       "      <th>4</th>\n",
       "      <td>773</td>\n",
       "      <td>0</td>\n",
       "      <td>2</td>\n",
       "      <td>Mack, Mrs. (Mary)</td>\n",
       "      <td>female</td>\n",
       "      <td>57.0</td>\n",
       "      <td>0</td>\n",
       "      <td>0</td>\n",
       "      <td>S.O./P.P. 3</td>\n",
       "      <td>10.5000</td>\n",
       "      <td>E77</td>\n",
       "      <td>S</td>\n",
       "    </tr>\n",
       "  </tbody>\n",
       "</table>\n",
       "</div>"
      ],
      "text/plain": [
       "   PassengerId  Survived  Pclass                              Name     Sex  \\\n",
       "0          769         0       3               Moran, Mr. Daniel J    male   \n",
       "1          770         0       3  Gronnestad, Mr. Daniel Danielsen    male   \n",
       "2          771         0       3            Lievens, Mr. Rene Aime    male   \n",
       "3          772         0       3           Jensen, Mr. Niels Peder    male   \n",
       "4          773         0       2                 Mack, Mrs. (Mary)  female   \n",
       "\n",
       "    Age  SibSp  Parch       Ticket     Fare Cabin Embarked  \n",
       "0   NaN      1      0       371110  24.1500   NaN        Q  \n",
       "1  32.0      0      0         8471   8.3625   NaN        S  \n",
       "2  24.0      0      0       345781   9.5000   NaN        S  \n",
       "3  48.0      0      0       350047   7.8542   NaN        S  \n",
       "4  57.0      0      0  S.O./P.P. 3  10.5000   E77        S  "
      ]
     },
     "execution_count": 6,
     "metadata": {},
     "output_type": "execute_result"
    }
   ],
   "source": [
    "test_data.head()"
   ]
  },
  {
   "cell_type": "code",
   "execution_count": 7,
   "metadata": {
    "_cell_guid": "e43a6271-1b69-43d7-a45b-f8b84c940dad",
    "_uuid": "a7b00e3add28398149621d710b28cfd43a7e8315"
   },
   "outputs": [
    {
     "data": {
      "text/plain": [
       "PassengerId      0\n",
       "Survived         0\n",
       "Pclass           0\n",
       "Name             0\n",
       "Sex              0\n",
       "Age            177\n",
       "SibSp            0\n",
       "Parch            0\n",
       "Ticket           0\n",
       "Fare             0\n",
       "Cabin          687\n",
       "Embarked         2\n",
       "dtype: int64"
      ]
     },
     "execution_count": 7,
     "metadata": {},
     "output_type": "execute_result"
    }
   ],
   "source": [
    "train_data.isnull().sum()"
   ]
  },
  {
   "cell_type": "code",
   "execution_count": 8,
   "metadata": {
    "_cell_guid": "c57466e5-c0fc-4e3a-86ee-c219c25cfb4e",
    "_uuid": "474928cc7dc656e5da644fa453edcd1d21841915"
   },
   "outputs": [
    {
     "data": {
      "image/png": "[encoded data removed]",
      "text/plain": [
       "<Figure size 432x288 with 1 Axes>"
      ]
     },
     "metadata": {
      "needs_background": "light"
     },
     "output_type": "display_data"
    }
   ],
   "source": [
    "sb.countplot('Survived',data=train_data)\n",
    "plt.show()"
   ]
  },
  {
   "cell_type": "code",
   "execution_count": 9,
   "metadata": {
    "_cell_guid": "76992ff6-10cb-409a-9465-e56b335faa74",
    "_uuid": "ef6e3bed7a9c2f718dd269619c30c1105233ea54"
   },
   "outputs": [
    {
     "data": {
      "text/plain": [
       "Sex     Survived\n",
       "female  0            81\n",
       "        1           233\n",
       "male    0           468\n",
       "        1           109\n",
       "Name: Survived, dtype: int64"
      ]
     },
     "execution_count": 9,
     "metadata": {},
     "output_type": "execute_result"
    }
   ],
   "source": [
    "train_data.groupby(['Sex', 'Survived'])['Survived'].count()"
   ]
  },
  {
   "cell_type": "code",
   "execution_count": 10,
   "metadata": {
    "_cell_guid": "7b0bc1e0-a8d9-4848-807e-815392d12b76",
    "_uuid": "bf5d8e2522bb00dc2fc1c22ff0d821290e8b418b"
   },
   "outputs": [
    {
     "data": {
      "image/png": "[encoded data removed]",
      "text/plain": [
       "<Figure size 432x288 with 1 Axes>"
      ]
     },
     "metadata": {
      "needs_background": "light"
     },
     "output_type": "display_data"
    }
   ],
   "source": [
    "train_data[['Sex','Survived']].groupby(['Sex']).mean().plot.bar()\n",
    "sb.countplot('Sex',hue='Survived',data=train_data,)\n",
    "plt.show()"
   ]
  },
  {
   "cell_type": "code",
   "execution_count": 11,
   "metadata": {
    "_cell_guid": "013a7ce7-accc-4272-9df7-c78289478cc6",
    "_uuid": "c949094d68749de7822e975aed9e20327a98f5dd"
   },
   "outputs": [
    {
     "data": {
      "image/png": "[encoded data removed]",
      "text/plain": [
       "<Figure size 432x288 with 1 Axes>"
      ]
     },
     "metadata": {
      "needs_background": "light"
     },
     "output_type": "display_data"
    }
   ],
   "source": [
    "sb.countplot('Pclass', hue='Survived', data=train_data)\n",
    "plt.title('Pclass: Sruvived vs Dead')\n",
    "plt.show()"
   ]
  },
  {
   "cell_type": "code",
   "execution_count": 12,
   "metadata": {
    "_cell_guid": "9c3d4ad1-18e5-416d-a26d-74fbdca0b94a",
    "_uuid": "26243d12a3c5fad03467180a23a39d5e63131fd9"
   },
   "outputs": [
    {
     "data": {
      "text/html": [
       "<style type=\"text/css\">\n",
       "#T_fe713_row0_col0, #T_fe713_row0_col1, #T_fe713_row0_col3, #T_fe713_row3_col2 {\n",
       "  background-color: #ffff66;\n",
       "  color: #000000;\n",
       "}\n",
       "#T_fe713_row0_col2, #T_fe713_row1_col2 {\n",
       "  background-color: #f1f866;\n",
       "  color: #000000;\n",
       "}\n",
       "#T_fe713_row1_col0 {\n",
       "  background-color: #96cb66;\n",
       "  color: #000000;\n",
       "}\n",
       "#T_fe713_row1_col1 {\n",
       "  background-color: #a3d166;\n",
       "  color: #000000;\n",
       "}\n",
       "#T_fe713_row1_col3 {\n",
       "  background-color: #cfe766;\n",
       "  color: #000000;\n",
       "}\n",
       "#T_fe713_row2_col0 {\n",
       "  background-color: #a7d366;\n",
       "  color: #000000;\n",
       "}\n",
       "#T_fe713_row2_col1, #T_fe713_row2_col3 {\n",
       "  background-color: #85c266;\n",
       "  color: #000000;\n",
       "}\n",
       "#T_fe713_row2_col2 {\n",
       "  background-color: #6eb666;\n",
       "  color: #f1f1f1;\n",
       "}\n",
       "#T_fe713_row3_col0 {\n",
       "  background-color: #cde666;\n",
       "  color: #000000;\n",
       "}\n",
       "#T_fe713_row3_col1 {\n",
       "  background-color: #f0f866;\n",
       "  color: #000000;\n",
       "}\n",
       "#T_fe713_row3_col3 {\n",
       "  background-color: #f7fb66;\n",
       "  color: #000000;\n",
       "}\n",
       "#T_fe713_row4_col0, #T_fe713_row4_col1, #T_fe713_row4_col2, #T_fe713_row4_col3 {\n",
       "  background-color: #008066;\n",
       "  color: #f1f1f1;\n",
       "}\n",
       "</style>\n",
       "<table id=\"T_fe713_\">\n",
       "  <thead>\n",
       "    <tr>\n",
       "      <th class=\"blank\" >&nbsp;</th>\n",
       "      <th class=\"index_name level0\" >Pclass</th>\n",
       "      <th class=\"col_heading level0 col0\" >1</th>\n",
       "      <th class=\"col_heading level0 col1\" >2</th>\n",
       "      <th class=\"col_heading level0 col2\" >3</th>\n",
       "      <th class=\"col_heading level0 col3\" >All</th>\n",
       "    </tr>\n",
       "    <tr>\n",
       "      <th class=\"index_name level0\" >Sex</th>\n",
       "      <th class=\"index_name level1\" >Survived</th>\n",
       "      <th class=\"blank col0\" >&nbsp;</th>\n",
       "      <th class=\"blank col1\" >&nbsp;</th>\n",
       "      <th class=\"blank col2\" >&nbsp;</th>\n",
       "      <th class=\"blank col3\" >&nbsp;</th>\n",
       "    </tr>\n",
       "  </thead>\n",
       "  <tbody>\n",
       "    <tr>\n",
       "      <th id=\"T_fe713_level0_row0\" class=\"row_heading level0 row0\" rowspan=\"2\">female</th>\n",
       "      <th id=\"T_fe713_level1_row0\" class=\"row_heading level1 row0\" >0</th>\n",
       "      <td id=\"T_fe713_row0_col0\" class=\"data row0 col0\" >3</td>\n",
       "      <td id=\"T_fe713_row0_col1\" class=\"data row0 col1\" >6</td>\n",
       "      <td id=\"T_fe713_row0_col2\" class=\"data row0 col2\" >72</td>\n",
       "      <td id=\"T_fe713_row0_col3\" class=\"data row0 col3\" >81</td>\n",
       "    </tr>\n",
       "    <tr>\n",
       "      <th id=\"T_fe713_level1_row1\" class=\"row_heading level1 row1\" >1</th>\n",
       "      <td id=\"T_fe713_row1_col0\" class=\"data row1 col0\" >91</td>\n",
       "      <td id=\"T_fe713_row1_col1\" class=\"data row1 col1\" >70</td>\n",
       "      <td id=\"T_fe713_row1_col2\" class=\"data row1 col2\" >72</td>\n",
       "      <td id=\"T_fe713_row1_col3\" class=\"data row1 col3\" >233</td>\n",
       "    </tr>\n",
       "    <tr>\n",
       "      <th id=\"T_fe713_level0_row2\" class=\"row_heading level0 row2\" rowspan=\"2\">male</th>\n",
       "      <th id=\"T_fe713_level1_row2\" class=\"row_heading level1 row2\" >0</th>\n",
       "      <td id=\"T_fe713_row2_col0\" class=\"data row2 col0\" >77</td>\n",
       "      <td id=\"T_fe713_row2_col1\" class=\"data row2 col1\" >91</td>\n",
       "      <td id=\"T_fe713_row2_col2\" class=\"data row2 col2\" >300</td>\n",
       "      <td id=\"T_fe713_row2_col3\" class=\"data row2 col3\" >468</td>\n",
       "    </tr>\n",
       "    <tr>\n",
       "      <th id=\"T_fe713_level1_row3\" class=\"row_heading level1 row3\" >1</th>\n",
       "      <td id=\"T_fe713_row3_col0\" class=\"data row3 col0\" >45</td>\n",
       "      <td id=\"T_fe713_row3_col1\" class=\"data row3 col1\" >17</td>\n",
       "      <td id=\"T_fe713_row3_col2\" class=\"data row3 col2\" >47</td>\n",
       "      <td id=\"T_fe713_row3_col3\" class=\"data row3 col3\" >109</td>\n",
       "    </tr>\n",
       "    <tr>\n",
       "      <th id=\"T_fe713_level0_row4\" class=\"row_heading level0 row4\" >All</th>\n",
       "      <th id=\"T_fe713_level1_row4\" class=\"row_heading level1 row4\" ></th>\n",
       "      <td id=\"T_fe713_row4_col0\" class=\"data row4 col0\" >216</td>\n",
       "      <td id=\"T_fe713_row4_col1\" class=\"data row4 col1\" >184</td>\n",
       "      <td id=\"T_fe713_row4_col2\" class=\"data row4 col2\" >491</td>\n",
       "      <td id=\"T_fe713_row4_col3\" class=\"data row4 col3\" >891</td>\n",
       "    </tr>\n",
       "  </tbody>\n",
       "</table>\n"
      ],
      "text/plain": [
       "<pandas.io.formats.style.Styler at 0x2904ff79fa0>"
      ]
     },
     "execution_count": 12,
     "metadata": {},
     "output_type": "execute_result"
    }
   ],
   "source": [
    "pd.crosstab([train_data.Sex,train_data.Survived],train_data.Pclass,margins=True).style.background_gradient(cmap='summer_r')"
   ]
  },
  {
   "cell_type": "code",
   "execution_count": 13,
   "metadata": {
    "_cell_guid": "458dff98-f6bb-4f40-8d1d-0aa1b19893aa",
    "_uuid": "0f629690be27786abfadf19b3a5f2f5121c09772"
   },
   "outputs": [
    {
     "data": {
      "image/png": "[encoded data removed]",
      "text/plain": [
       "<Figure size 430.5x360 with 1 Axes>"
      ]
     },
     "metadata": {
      "needs_background": "light"
     },
     "output_type": "display_data"
    }
   ],
   "source": [
    "sb.factorplot('Pclass', 'Survived', hue='Sex', data=train_data)\n",
    "plt.show()"
   ]
  },
  {
   "cell_type": "code",
   "execution_count": 14,
   "metadata": {
    "_cell_guid": "dfe8ad42-528f-400f-bff1-493dba5f3dfd",
    "_uuid": "bfbbe611e3f4f089ed5ffcf17d994485127af4f5"
   },
   "outputs": [
    {
     "name": "stdout",
     "output_type": "stream",
     "text": [
      "Oldest person Survived was of: 80.0\n",
      "Youngest person Survived was of: 0.42\n",
      "Average person Survived was of: 29.69911764705882\n"
     ]
    }
   ],
   "source": [
    "print('Oldest person Survived was of:',train_data['Age'].max())\n",
    "print('Youngest person Survived was of:',train_data['Age'].min())\n",
    "print('Average person Survived was of:',train_data['Age'].mean())"
   ]
  },
  {
   "cell_type": "code",
   "execution_count": 15,
   "metadata": {
    "_cell_guid": "623f7637-6bf0-4c11-bc39-f32e7c2cc1d7",
    "_uuid": "392a729823d49f221d95aa57dcc9d03223bf80ba"
   },
   "outputs": [
    {
     "data": {
      "image/png": "[encoded data removed]",
      "text/plain": [
       "<Figure size 1296x576 with 2 Axes>"
      ]
     },
     "metadata": {
      "needs_background": "light"
     },
     "output_type": "display_data"
    }
   ],
   "source": [
    "f,ax=plt.subplots(1,2,figsize=(18,8))\n",
    "sb.violinplot('Pclass','Age',hue='Survived',data=train_data,split=True,ax=ax[0])\n",
    "ax[0].set_title('PClass and Age vs Survived')\n",
    "ax[0].set_yticks(range(0,110,10))\n",
    "sb.violinplot(\"Sex\",\"Age\", hue=\"Survived\", data=train_data,split=True,ax=ax[1])\n",
    "ax[1].set_title('Sex and Age vs Survived')\n",
    "ax[1].set_yticks(range(0,110,10))\n",
    "plt.show()\n"
   ]
  },
  {
   "cell_type": "code",
   "execution_count": 16,
   "metadata": {
    "_cell_guid": "1aa29a1a-34dd-4270-8f8c-8022dd806ba0",
    "_uuid": "00ba326def819939d616f175f150b09026e5f623"
   },
   "outputs": [],
   "source": [
    "train_data['Initial']=0\n",
    "for i in train_data:\n",
    "    train_data['Initial']=train_data.Name.str.extract('([A-Za-z]+)\\.') #extracting Name initials"
   ]
  },
  {
   "cell_type": "code",
   "execution_count": 17,
   "metadata": {
    "_cell_guid": "9289e051-d21d-4fc9-b774-224a436ba5c9",
    "_uuid": "4a1568cce94ad94c6049266831cb6ad2acbdfb06"
   },
   "outputs": [
    {
     "data": {
      "text/html": [
       "<style type=\"text/css\">\n",
       "#T_310ca_row0_col0, #T_310ca_row0_col1, #T_310ca_row0_col3, #T_310ca_row0_col4, #T_310ca_row0_col5, #T_310ca_row0_col7, #T_310ca_row0_col8, #T_310ca_row0_col12, #T_310ca_row0_col15, #T_310ca_row0_col16, #T_310ca_row1_col2, #T_310ca_row1_col6, #T_310ca_row1_col9, #T_310ca_row1_col10, #T_310ca_row1_col11, #T_310ca_row1_col13, #T_310ca_row1_col14 {\n",
       "  background-color: #ffff66;\n",
       "  color: #000000;\n",
       "}\n",
       "#T_310ca_row0_col2, #T_310ca_row0_col6, #T_310ca_row0_col9, #T_310ca_row0_col10, #T_310ca_row0_col11, #T_310ca_row0_col13, #T_310ca_row0_col14, #T_310ca_row1_col0, #T_310ca_row1_col1, #T_310ca_row1_col3, #T_310ca_row1_col4, #T_310ca_row1_col5, #T_310ca_row1_col7, #T_310ca_row1_col8, #T_310ca_row1_col12, #T_310ca_row1_col15, #T_310ca_row1_col16 {\n",
       "  background-color: #008066;\n",
       "  color: #f1f1f1;\n",
       "}\n",
       "</style>\n",
       "<table id=\"T_310ca_\">\n",
       "  <thead>\n",
       "    <tr>\n",
       "      <th class=\"index_name level0\" >Initial</th>\n",
       "      <th class=\"col_heading level0 col0\" >Capt</th>\n",
       "      <th class=\"col_heading level0 col1\" >Col</th>\n",
       "      <th class=\"col_heading level0 col2\" >Countess</th>\n",
       "      <th class=\"col_heading level0 col3\" >Don</th>\n",
       "      <th class=\"col_heading level0 col4\" >Dr</th>\n",
       "      <th class=\"col_heading level0 col5\" >Jonkheer</th>\n",
       "      <th class=\"col_heading level0 col6\" >Lady</th>\n",
       "      <th class=\"col_heading level0 col7\" >Major</th>\n",
       "      <th class=\"col_heading level0 col8\" >Master</th>\n",
       "      <th class=\"col_heading level0 col9\" >Miss</th>\n",
       "      <th class=\"col_heading level0 col10\" >Mlle</th>\n",
       "      <th class=\"col_heading level0 col11\" >Mme</th>\n",
       "      <th class=\"col_heading level0 col12\" >Mr</th>\n",
       "      <th class=\"col_heading level0 col13\" >Mrs</th>\n",
       "      <th class=\"col_heading level0 col14\" >Ms</th>\n",
       "      <th class=\"col_heading level0 col15\" >Rev</th>\n",
       "      <th class=\"col_heading level0 col16\" >Sir</th>\n",
       "    </tr>\n",
       "    <tr>\n",
       "      <th class=\"index_name level0\" >Sex</th>\n",
       "      <th class=\"blank col0\" >&nbsp;</th>\n",
       "      <th class=\"blank col1\" >&nbsp;</th>\n",
       "      <th class=\"blank col2\" >&nbsp;</th>\n",
       "      <th class=\"blank col3\" >&nbsp;</th>\n",
       "      <th class=\"blank col4\" >&nbsp;</th>\n",
       "      <th class=\"blank col5\" >&nbsp;</th>\n",
       "      <th class=\"blank col6\" >&nbsp;</th>\n",
       "      <th class=\"blank col7\" >&nbsp;</th>\n",
       "      <th class=\"blank col8\" >&nbsp;</th>\n",
       "      <th class=\"blank col9\" >&nbsp;</th>\n",
       "      <th class=\"blank col10\" >&nbsp;</th>\n",
       "      <th class=\"blank col11\" >&nbsp;</th>\n",
       "      <th class=\"blank col12\" >&nbsp;</th>\n",
       "      <th class=\"blank col13\" >&nbsp;</th>\n",
       "      <th class=\"blank col14\" >&nbsp;</th>\n",
       "      <th class=\"blank col15\" >&nbsp;</th>\n",
       "      <th class=\"blank col16\" >&nbsp;</th>\n",
       "    </tr>\n",
       "  </thead>\n",
       "  <tbody>\n",
       "    <tr>\n",
       "      <th id=\"T_310ca_level0_row0\" class=\"row_heading level0 row0\" >female</th>\n",
       "      <td id=\"T_310ca_row0_col0\" class=\"data row0 col0\" >0</td>\n",
       "      <td id=\"T_310ca_row0_col1\" class=\"data row0 col1\" >0</td>\n",
       "      <td id=\"T_310ca_row0_col2\" class=\"data row0 col2\" >1</td>\n",
       "      <td id=\"T_310ca_row0_col3\" class=\"data row0 col3\" >0</td>\n",
       "      <td id=\"T_310ca_row0_col4\" class=\"data row0 col4\" >1</td>\n",
       "      <td id=\"T_310ca_row0_col5\" class=\"data row0 col5\" >0</td>\n",
       "      <td id=\"T_310ca_row0_col6\" class=\"data row0 col6\" >1</td>\n",
       "      <td id=\"T_310ca_row0_col7\" class=\"data row0 col7\" >0</td>\n",
       "      <td id=\"T_310ca_row0_col8\" class=\"data row0 col8\" >0</td>\n",
       "      <td id=\"T_310ca_row0_col9\" class=\"data row0 col9\" >182</td>\n",
       "      <td id=\"T_310ca_row0_col10\" class=\"data row0 col10\" >2</td>\n",
       "      <td id=\"T_310ca_row0_col11\" class=\"data row0 col11\" >1</td>\n",
       "      <td id=\"T_310ca_row0_col12\" class=\"data row0 col12\" >0</td>\n",
       "      <td id=\"T_310ca_row0_col13\" class=\"data row0 col13\" >125</td>\n",
       "      <td id=\"T_310ca_row0_col14\" class=\"data row0 col14\" >1</td>\n",
       "      <td id=\"T_310ca_row0_col15\" class=\"data row0 col15\" >0</td>\n",
       "      <td id=\"T_310ca_row0_col16\" class=\"data row0 col16\" >0</td>\n",
       "    </tr>\n",
       "    <tr>\n",
       "      <th id=\"T_310ca_level0_row1\" class=\"row_heading level0 row1\" >male</th>\n",
       "      <td id=\"T_310ca_row1_col0\" class=\"data row1 col0\" >1</td>\n",
       "      <td id=\"T_310ca_row1_col1\" class=\"data row1 col1\" >2</td>\n",
       "      <td id=\"T_310ca_row1_col2\" class=\"data row1 col2\" >0</td>\n",
       "      <td id=\"T_310ca_row1_col3\" class=\"data row1 col3\" >1</td>\n",
       "      <td id=\"T_310ca_row1_col4\" class=\"data row1 col4\" >6</td>\n",
       "      <td id=\"T_310ca_row1_col5\" class=\"data row1 col5\" >1</td>\n",
       "      <td id=\"T_310ca_row1_col6\" class=\"data row1 col6\" >0</td>\n",
       "      <td id=\"T_310ca_row1_col7\" class=\"data row1 col7\" >2</td>\n",
       "      <td id=\"T_310ca_row1_col8\" class=\"data row1 col8\" >40</td>\n",
       "      <td id=\"T_310ca_row1_col9\" class=\"data row1 col9\" >0</td>\n",
       "      <td id=\"T_310ca_row1_col10\" class=\"data row1 col10\" >0</td>\n",
       "      <td id=\"T_310ca_row1_col11\" class=\"data row1 col11\" >0</td>\n",
       "      <td id=\"T_310ca_row1_col12\" class=\"data row1 col12\" >517</td>\n",
       "      <td id=\"T_310ca_row1_col13\" class=\"data row1 col13\" >0</td>\n",
       "      <td id=\"T_310ca_row1_col14\" class=\"data row1 col14\" >0</td>\n",
       "      <td id=\"T_310ca_row1_col15\" class=\"data row1 col15\" >6</td>\n",
       "      <td id=\"T_310ca_row1_col16\" class=\"data row1 col16\" >1</td>\n",
       "    </tr>\n",
       "  </tbody>\n",
       "</table>\n"
      ],
      "text/plain": [
       "<pandas.io.formats.style.Styler at 0x2904ffceb50>"
      ]
     },
     "execution_count": 17,
     "metadata": {},
     "output_type": "execute_result"
    }
   ],
   "source": [
    "pd.crosstab(train_data.Initial,train_data.Sex).T.style.background_gradient(cmap='summer_r')\n"
   ]
  },
  {
   "cell_type": "markdown",
   "metadata": {
    "_cell_guid": "8002063e-0472-4277-aa71-898a82691958",
    "_uuid": "e57a594cb3ec11145e1538b030834963b1a38fff"
   },
   "source": [
    "There are many names which are not relevant like Mr, Mrs etc. So I will replace them with some relevant names,"
   ]
  },
  {
   "cell_type": "code",
   "execution_count": 18,
   "metadata": {
    "_cell_guid": "2c766ba5-c271-41bb-9375-9a7ba28c761e",
    "_uuid": "be92506f66b163d85cab44e4eca42d832aa01a85"
   },
   "outputs": [],
   "source": [
    "train_data['Initial'].replace(['Mlle','Mme','Ms','Dr','Major','Lady','Countess',\n",
    "                               'Jonkheer','Col','Rev','Capt','Sir','Don'],['Miss',\n",
    "                                'Miss','Miss','Mr','Mr','Mrs','Mrs','Other','Other','Other','Mr','Mr','Mr'],inplace=True)\n"
   ]
  },
  {
   "cell_type": "code",
   "execution_count": 19,
   "metadata": {
    "_cell_guid": "40c865d9-4c7d-4fc4-a7fc-177e56fea22e",
    "_uuid": "2497881aa84c4f77dbfcf1252b2264ba697b5d12"
   },
   "outputs": [
    {
     "data": {
      "text/plain": [
       "Initial\n",
       "Master     4.574167\n",
       "Miss      21.860000\n",
       "Mr        32.739609\n",
       "Mrs       35.981818\n",
       "Other     45.888889\n",
       "Name: Age, dtype: float64"
      ]
     },
     "execution_count": 19,
     "metadata": {},
     "output_type": "execute_result"
    }
   ],
   "source": [
    "train_data.groupby('Initial')['Age'].mean()"
   ]
  },
  {
   "cell_type": "code",
   "execution_count": 20,
   "metadata": {
    "_cell_guid": "bb997eb2-a34e-4401-ab16-53c1e0789e02",
    "_uuid": "66b23092f07041fad20e6bd68aba4874982d42e6"
   },
   "outputs": [],
   "source": [
    "train_data.loc[(train_data.Age.isnull()) & (train_data.Initial=='Mr'),'Age']=33\n",
    "train_data.loc[(train_data.Age.isnull()) & (train_data.Initial=='Mrs'),'Age']=36\n",
    "train_data.loc[(train_data.Age.isnull()) & (train_data.Initial=='Master'),'Age']=5\n",
    "train_data.loc[(train_data.Age.isnull()) & (train_data.Initial=='Miss'),'Age']=22\n",
    "train_data.loc[(train_data.Age.isnull()) & (train_data.Initial=='Other'),'Age']=46"
   ]
  },
  {
   "cell_type": "code",
   "execution_count": 21,
   "metadata": {
    "_cell_guid": "f962c1fe-35d1-475b-9635-d57e7c420315",
    "_uuid": "438fcbe0457287ec094b253c81f2a9fecf6e3c56"
   },
   "outputs": [
    {
     "data": {
      "text/plain": [
       "False"
      ]
     },
     "execution_count": 21,
     "metadata": {},
     "output_type": "execute_result"
    }
   ],
   "source": [
    "train_data.Age.isnull().any()\n"
   ]
  },
  {
   "cell_type": "code",
   "execution_count": 22,
   "metadata": {
    "_cell_guid": "b6d56cd3-a67f-4390-a810-0607b4933f8b",
    "_uuid": "7f0f35d293722d47ca53c380fab2249cc5d2a964"
   },
   "outputs": [
    {
     "data": {
      "image/png": "[encoded data removed]",
      "text/plain": [
       "<Figure size 1440x1440 with 2 Axes>"
      ]
     },
     "metadata": {
      "needs_background": "light"
     },
     "output_type": "display_data"
    }
   ],
   "source": [
    "f,ax=plt.subplots(1,2,figsize=(20,20))\n",
    "train_data[train_data['Survived']==0].Age.plot.hist(ax=ax[0],bins=20,edgecolor='black',color='red')\n",
    "ax[0].set_title('Survived = 0')\n",
    "x1=list(range(0,85,5))\n",
    "ax[0].set_xticks(x1)\n",
    "train_data[train_data['Survived']==1].Age.plot.hist(ax=ax[1],bins=20,edgecolor='black',color='green')\n",
    "x2=list(range(0,85,5))\n",
    "ax[1].set_xticks(x2)\n",
    "ax[1].set_title('Survived = 1')\n",
    "plt.show()\n"
   ]
  },
  {
   "cell_type": "code",
   "execution_count": 23,
   "metadata": {
    "_cell_guid": "b759c434-0a85-4b26-8c8b-526dfa0c560e",
    "_uuid": "9d5087ff08dc40bd3c07eb528ab9769a2d559264"
   },
   "outputs": [
    {
     "data": {
      "image/png": "[encoded data removed]",
      "text/plain": [
       "<Figure size 1800x360 with 5 Axes>"
      ]
     },
     "metadata": {
      "needs_background": "light"
     },
     "output_type": "display_data"
    }
   ],
   "source": [
    "sb.factorplot('Pclass','Survived',col='Initial',data=train_data)\n",
    "plt.show()\n"
   ]
  },
  {
   "cell_type": "code",
   "execution_count": 24,
   "metadata": {
    "_cell_guid": "9e188e6a-b0c6-4a83-a843-b3551300e933",
    "_uuid": "663a48b6c547bd4eb7ae4a42935f4873c102c946"
   },
   "outputs": [
    {
     "data": {
      "text/html": [
       "<style type=\"text/css\">\n",
       "#T_c2994_row0_col0, #T_c2994_row0_col1 {\n",
       "  background-color: #008066;\n",
       "  color: #f1f1f1;\n",
       "}\n",
       "#T_c2994_row1_col0 {\n",
       "  background-color: #c4e266;\n",
       "  color: #000000;\n",
       "}\n",
       "#T_c2994_row1_col1 {\n",
       "  background-color: #77bb66;\n",
       "  color: #f1f1f1;\n",
       "}\n",
       "#T_c2994_row2_col0, #T_c2994_row4_col0 {\n",
       "  background-color: #f9fc66;\n",
       "  color: #000000;\n",
       "}\n",
       "#T_c2994_row2_col1 {\n",
       "  background-color: #f0f866;\n",
       "  color: #000000;\n",
       "}\n",
       "#T_c2994_row3_col0, #T_c2994_row3_col1 {\n",
       "  background-color: #fbfd66;\n",
       "  color: #000000;\n",
       "}\n",
       "#T_c2994_row4_col1 {\n",
       "  background-color: #fcfe66;\n",
       "  color: #000000;\n",
       "}\n",
       "#T_c2994_row5_col0, #T_c2994_row5_col1, #T_c2994_row6_col1 {\n",
       "  background-color: #ffff66;\n",
       "  color: #000000;\n",
       "}\n",
       "#T_c2994_row6_col0 {\n",
       "  background-color: #fefe66;\n",
       "  color: #000000;\n",
       "}\n",
       "</style>\n",
       "<table id=\"T_c2994_\">\n",
       "  <thead>\n",
       "    <tr>\n",
       "      <th class=\"index_name level0\" >Survived</th>\n",
       "      <th class=\"col_heading level0 col0\" >0</th>\n",
       "      <th class=\"col_heading level0 col1\" >1</th>\n",
       "    </tr>\n",
       "    <tr>\n",
       "      <th class=\"index_name level0\" >SibSp</th>\n",
       "      <th class=\"blank col0\" >&nbsp;</th>\n",
       "      <th class=\"blank col1\" >&nbsp;</th>\n",
       "    </tr>\n",
       "  </thead>\n",
       "  <tbody>\n",
       "    <tr>\n",
       "      <th id=\"T_c2994_level0_row0\" class=\"row_heading level0 row0\" >0</th>\n",
       "      <td id=\"T_c2994_row0_col0\" class=\"data row0 col0\" >398</td>\n",
       "      <td id=\"T_c2994_row0_col1\" class=\"data row0 col1\" >210</td>\n",
       "    </tr>\n",
       "    <tr>\n",
       "      <th id=\"T_c2994_level0_row1\" class=\"row_heading level0 row1\" >1</th>\n",
       "      <td id=\"T_c2994_row1_col0\" class=\"data row1 col0\" >97</td>\n",
       "      <td id=\"T_c2994_row1_col1\" class=\"data row1 col1\" >112</td>\n",
       "    </tr>\n",
       "    <tr>\n",
       "      <th id=\"T_c2994_level0_row2\" class=\"row_heading level0 row2\" >2</th>\n",
       "      <td id=\"T_c2994_row2_col0\" class=\"data row2 col0\" >15</td>\n",
       "      <td id=\"T_c2994_row2_col1\" class=\"data row2 col1\" >13</td>\n",
       "    </tr>\n",
       "    <tr>\n",
       "      <th id=\"T_c2994_level0_row3\" class=\"row_heading level0 row3\" >3</th>\n",
       "      <td id=\"T_c2994_row3_col0\" class=\"data row3 col0\" >12</td>\n",
       "      <td id=\"T_c2994_row3_col1\" class=\"data row3 col1\" >4</td>\n",
       "    </tr>\n",
       "    <tr>\n",
       "      <th id=\"T_c2994_level0_row4\" class=\"row_heading level0 row4\" >4</th>\n",
       "      <td id=\"T_c2994_row4_col0\" class=\"data row4 col0\" >15</td>\n",
       "      <td id=\"T_c2994_row4_col1\" class=\"data row4 col1\" >3</td>\n",
       "    </tr>\n",
       "    <tr>\n",
       "      <th id=\"T_c2994_level0_row5\" class=\"row_heading level0 row5\" >5</th>\n",
       "      <td id=\"T_c2994_row5_col0\" class=\"data row5 col0\" >5</td>\n",
       "      <td id=\"T_c2994_row5_col1\" class=\"data row5 col1\" >0</td>\n",
       "    </tr>\n",
       "    <tr>\n",
       "      <th id=\"T_c2994_level0_row6\" class=\"row_heading level0 row6\" >8</th>\n",
       "      <td id=\"T_c2994_row6_col0\" class=\"data row6 col0\" >7</td>\n",
       "      <td id=\"T_c2994_row6_col1\" class=\"data row6 col1\" >0</td>\n",
       "    </tr>\n",
       "  </tbody>\n",
       "</table>\n"
      ],
      "text/plain": [
       "<pandas.io.formats.style.Styler at 0x290504980d0>"
      ]
     },
     "execution_count": 24,
     "metadata": {},
     "output_type": "execute_result"
    }
   ],
   "source": [
    "pd.crosstab([train_data.SibSp],train_data.Survived).style.background_gradient('summer_r')"
   ]
  },
  {
   "cell_type": "code",
   "execution_count": 25,
   "metadata": {
    "_cell_guid": "7ca8c974-a10e-4a88-b466-49a7c198428d",
    "_uuid": "257631be7f62837e92c4cf3d9b12f05527ba810e"
   },
   "outputs": [
    {
     "data": {
      "text/html": [
       "<style type=\"text/css\">\n",
       "#T_0868d_row0_col0, #T_0868d_row0_col1, #T_0868d_row0_col2 {\n",
       "  background-color: #008066;\n",
       "  color: #f1f1f1;\n",
       "}\n",
       "#T_0868d_row1_col0 {\n",
       "  background-color: #7bbd66;\n",
       "  color: #000000;\n",
       "}\n",
       "#T_0868d_row1_col1 {\n",
       "  background-color: #8ac466;\n",
       "  color: #000000;\n",
       "}\n",
       "#T_0868d_row1_col2 {\n",
       "  background-color: #c6e266;\n",
       "  color: #000000;\n",
       "}\n",
       "#T_0868d_row2_col0, #T_0868d_row4_col2 {\n",
       "  background-color: #f6fa66;\n",
       "  color: #000000;\n",
       "}\n",
       "#T_0868d_row2_col1 {\n",
       "  background-color: #eef666;\n",
       "  color: #000000;\n",
       "}\n",
       "#T_0868d_row2_col2 {\n",
       "  background-color: #f8fc66;\n",
       "  color: #000000;\n",
       "}\n",
       "#T_0868d_row3_col0, #T_0868d_row3_col2 {\n",
       "  background-color: #fafc66;\n",
       "  color: #000000;\n",
       "}\n",
       "#T_0868d_row3_col1 {\n",
       "  background-color: #fdfe66;\n",
       "  color: #000000;\n",
       "}\n",
       "#T_0868d_row4_col0, #T_0868d_row4_col1, #T_0868d_row5_col0, #T_0868d_row5_col1, #T_0868d_row5_col2, #T_0868d_row6_col0, #T_0868d_row6_col1 {\n",
       "  background-color: #ffff66;\n",
       "  color: #000000;\n",
       "}\n",
       "#T_0868d_row6_col2 {\n",
       "  background-color: #fefe66;\n",
       "  color: #000000;\n",
       "}\n",
       "</style>\n",
       "<table id=\"T_0868d_\">\n",
       "  <thead>\n",
       "    <tr>\n",
       "      <th class=\"index_name level0\" >Pclass</th>\n",
       "      <th class=\"col_heading level0 col0\" >1</th>\n",
       "      <th class=\"col_heading level0 col1\" >2</th>\n",
       "      <th class=\"col_heading level0 col2\" >3</th>\n",
       "    </tr>\n",
       "    <tr>\n",
       "      <th class=\"index_name level0\" >SibSp</th>\n",
       "      <th class=\"blank col0\" >&nbsp;</th>\n",
       "      <th class=\"blank col1\" >&nbsp;</th>\n",
       "      <th class=\"blank col2\" >&nbsp;</th>\n",
       "    </tr>\n",
       "  </thead>\n",
       "  <tbody>\n",
       "    <tr>\n",
       "      <th id=\"T_0868d_level0_row0\" class=\"row_heading level0 row0\" >0</th>\n",
       "      <td id=\"T_0868d_row0_col0\" class=\"data row0 col0\" >137</td>\n",
       "      <td id=\"T_0868d_row0_col1\" class=\"data row0 col1\" >120</td>\n",
       "      <td id=\"T_0868d_row0_col2\" class=\"data row0 col2\" >351</td>\n",
       "    </tr>\n",
       "    <tr>\n",
       "      <th id=\"T_0868d_level0_row1\" class=\"row_heading level0 row1\" >1</th>\n",
       "      <td id=\"T_0868d_row1_col0\" class=\"data row1 col0\" >71</td>\n",
       "      <td id=\"T_0868d_row1_col1\" class=\"data row1 col1\" >55</td>\n",
       "      <td id=\"T_0868d_row1_col2\" class=\"data row1 col2\" >83</td>\n",
       "    </tr>\n",
       "    <tr>\n",
       "      <th id=\"T_0868d_level0_row2\" class=\"row_heading level0 row2\" >2</th>\n",
       "      <td id=\"T_0868d_row2_col0\" class=\"data row2 col0\" >5</td>\n",
       "      <td id=\"T_0868d_row2_col1\" class=\"data row2 col1\" >8</td>\n",
       "      <td id=\"T_0868d_row2_col2\" class=\"data row2 col2\" >15</td>\n",
       "    </tr>\n",
       "    <tr>\n",
       "      <th id=\"T_0868d_level0_row3\" class=\"row_heading level0 row3\" >3</th>\n",
       "      <td id=\"T_0868d_row3_col0\" class=\"data row3 col0\" >3</td>\n",
       "      <td id=\"T_0868d_row3_col1\" class=\"data row3 col1\" >1</td>\n",
       "      <td id=\"T_0868d_row3_col2\" class=\"data row3 col2\" >12</td>\n",
       "    </tr>\n",
       "    <tr>\n",
       "      <th id=\"T_0868d_level0_row4\" class=\"row_heading level0 row4\" >4</th>\n",
       "      <td id=\"T_0868d_row4_col0\" class=\"data row4 col0\" >0</td>\n",
       "      <td id=\"T_0868d_row4_col1\" class=\"data row4 col1\" >0</td>\n",
       "      <td id=\"T_0868d_row4_col2\" class=\"data row4 col2\" >18</td>\n",
       "    </tr>\n",
       "    <tr>\n",
       "      <th id=\"T_0868d_level0_row5\" class=\"row_heading level0 row5\" >5</th>\n",
       "      <td id=\"T_0868d_row5_col0\" class=\"data row5 col0\" >0</td>\n",
       "      <td id=\"T_0868d_row5_col1\" class=\"data row5 col1\" >0</td>\n",
       "      <td id=\"T_0868d_row5_col2\" class=\"data row5 col2\" >5</td>\n",
       "    </tr>\n",
       "    <tr>\n",
       "      <th id=\"T_0868d_level0_row6\" class=\"row_heading level0 row6\" >8</th>\n",
       "      <td id=\"T_0868d_row6_col0\" class=\"data row6 col0\" >0</td>\n",
       "      <td id=\"T_0868d_row6_col1\" class=\"data row6 col1\" >0</td>\n",
       "      <td id=\"T_0868d_row6_col2\" class=\"data row6 col2\" >7</td>\n",
       "    </tr>\n",
       "  </tbody>\n",
       "</table>\n"
      ],
      "text/plain": [
       "<pandas.io.formats.style.Styler at 0x2904a607a00>"
      ]
     },
     "execution_count": 25,
     "metadata": {},
     "output_type": "execute_result"
    }
   ],
   "source": [
    "pd.crosstab(train_data.SibSp,train_data.Pclass).style.background_gradient('summer_r')\n"
   ]
  },
  {
   "cell_type": "code",
   "execution_count": null,
   "metadata": {},
   "outputs": [],
   "source": []
  }
 ],
 "metadata": {
  "kernelspec": {
   "display_name": "Python 3 (ipykernel)",
   "language": "python",
   "name": "python3"
  },
  "language_info": {
   "codemirror_mode": {
    "name": "ipython",
    "version": 3
   },
   "file_extension": ".py",
   "mimetype": "text/x-python",
   "name": "python",
   "nbconvert_exporter": "python",
   "pygments_lexer": "ipython3",
   "version": "3.9.7"
  }
 },
 "nbformat": 4,
 "nbformat_minor": 1
}
